{
 "cells": [
  {
   "cell_type": "code",
   "execution_count": 1,
   "metadata": {},
   "outputs": [
    {
     "name": "stderr",
     "output_type": "stream",
     "text": [
      "C:\\Users\\linmu01\\AppData\\Local\\Continuum\\anaconda2\\lib\\site-packages\\sklearn\\cross_validation.py:41: DeprecationWarning: This module was deprecated in version 0.18 in favor of the model_selection module into which all the refactored classes and functions are moved. Also note that the interface of the new CV iterators are different from that of this module. This module will be removed in 0.20.\n",
      "  \"This module will be removed in 0.20.\", DeprecationWarning)\n"
     ]
    }
   ],
   "source": [
    "import pandas as pd \n",
    "import numpy as np\n",
    "import random\n",
    "import math\n",
    "from sklearn.metrics.pairwise import cosine_similarity\n",
    "from sklearn import cross_validation as cv\n",
    "from scipy import sparse \n",
    "\n",
    "\n",
    "header = ['userId', 'movieId', 'rating', 'timestamp']\n",
    "df=pd.read_csv('ml-100k/u.data',sep='\\t', names=header)"
   ]
  },
  {
   "cell_type": "code",
   "execution_count": 2,
   "metadata": {
    "collapsed": true
   },
   "outputs": [],
   "source": [
    "train_data, test_data = cv.train_test_split(df, test_size=0.2)"
   ]
  },
  {
   "cell_type": "code",
   "execution_count": 3,
   "metadata": {
    "collapsed": true
   },
   "outputs": [],
   "source": [
    "def trans2dict(df):\n",
    "    u2i_dict = {}\n",
    "    for index, row in df.iterrows():\n",
    "        user = int(row['userId'])-1\n",
    "        item = int(row['movieId'])-1\n",
    "        rating = row['rating']\n",
    "        if user not in u2i_dict:\n",
    "            u2i_dict[user] = {}\n",
    "        u2i_dict[user][item] = rating\n",
    "    return u2i_dict"
   ]
  },
  {
   "cell_type": "code",
   "execution_count": 4,
   "metadata": {
    "collapsed": true
   },
   "outputs": [],
   "source": [
    "train_u2i_score = trans2dict(train_data)"
   ]
  },
  {
   "cell_type": "code",
   "execution_count": 5,
   "metadata": {
    "collapsed": true
   },
   "outputs": [],
   "source": [
    "test_u2i_score = trans2dict(test_data)"
   ]
  },
  {
   "cell_type": "code",
   "execution_count": 6,
   "metadata": {
    "collapsed": true
   },
   "outputs": [],
   "source": [
    "i2u_score = {}"
   ]
  },
  {
   "cell_type": "code",
   "execution_count": 7,
   "metadata": {
    "collapsed": true
   },
   "outputs": [],
   "source": [
    "user_ave_score = {}"
   ]
  },
  {
   "cell_type": "code",
   "execution_count": 8,
   "metadata": {},
   "outputs": [],
   "source": [
    "for user in train_u2i_score:\n",
    "    if not user in user_ave_score:\n",
    "        user_ave_score[user] = 0.0\n",
    "        cnt = 0\n",
    "    for item in train_u2i_score[user]:\n",
    "        cnt += 1\n",
    "        user_ave_score[user] += train_u2i_score[user][item]\n",
    "        if not item in i2u_score:\n",
    "            i2u_score[item] = {}\n",
    "        i2u_score[item][user] = train_u2i_score[user][item]\n",
    "    user_ave_score[user] = user_ave_score[user]/cnt"
   ]
  },
  {
   "cell_type": "code",
   "execution_count": 9,
   "metadata": {},
   "outputs": [],
   "source": [
    "def cal_sim(i2u_score):\n",
    "    sim = {}\n",
    "    norm = {}\n",
    "    for item in i2u_score:\n",
    "        user_score = i2u_score[item]\n",
    "        for user in user_score:\n",
    "            if not user in norm:\n",
    "                norm[user] = 0\n",
    "            norm[user] += user_score[user] * user_score[user]\n",
    "            if user not in sim:\n",
    "                sim[user] = {}\n",
    "            for user2 in user_score:\n",
    "                if user2 == user:\n",
    "                    continue\n",
    "                if user2 not in sim[user]:\n",
    "                    sim[user][user2] = 0\n",
    "                sim[user][user2] += user_score[user] * user_score[user2]\n",
    "    for u in sim:\n",
    "        for v in sim[u]:\n",
    "            sim[u][v] /= math.sqrt(norm[u] * norm[v])\n",
    "    return sim"
   ]
  },
  {
   "cell_type": "code",
   "execution_count": 10,
   "metadata": {
    "collapsed": true
   },
   "outputs": [],
   "source": [
    "similarity = cal_sim(i2u_score)"
   ]
  },
  {
   "cell_type": "code",
   "execution_count": 11,
   "metadata": {},
   "outputs": [],
   "source": [
    "sorted_similarity = {k: list(sorted(v.items(), key=lambda x: x[1], reverse=True)) for k, v in similarity.items()}"
   ]
  },
  {
   "cell_type": "code",
   "execution_count": 12,
   "metadata": {},
   "outputs": [],
   "source": [
    "def cal_score_usercf(similarity, train_u2i_score, test_u2i_score, i2u_score, K, user_ave_score):\n",
    "    pred = {}\n",
    "    for user in test_u2i_score:\n",
    "        if not user in pred:\n",
    "            pred[user] = {}\n",
    "        for item in test_u2i_score[user]:\n",
    "            norm = 0.0\n",
    "            if not item in pred[user]:\n",
    "                pred[user][item] = 0.0\n",
    "            cnt = 0\n",
    "            for v, sim in similarity[user]:\n",
    "                if not item in i2u_score:\n",
    "                    norm = 1\n",
    "                    break\n",
    "                if not v in i2u_score[item]:\n",
    "                    continue\n",
    "                pred[user][item] += sim * (train_u2i_score[v][item] - user_ave_score[v])\n",
    "                norm += abs(sim)\n",
    "                cnt += 1\n",
    "                if cnt == K:\n",
    "                    break\n",
    "            pred[user][item] = pred[user][item]/norm\n",
    "            if user not in user_ave_score:\n",
    "                pred[user][item] += 0.0\n",
    "            else:\n",
    "                pred[user][item] += user_ave_score[user]\n",
    "        \n",
    "    return pred"
   ]
  },
  {
   "cell_type": "code",
   "execution_count": 13,
   "metadata": {},
   "outputs": [],
   "source": [
    "pred_usercf = cal_score_usercf(sorted_similarity, train_u2i_score, test_u2i_score, i2u_score, 60, user_ave_score)"
   ]
  },
  {
   "cell_type": "code",
   "execution_count": 14,
   "metadata": {
    "collapsed": true
   },
   "outputs": [],
   "source": [
    "# model-based collaborative filtering"
   ]
  },
  {
   "cell_type": "code",
   "execution_count": 15,
   "metadata": {},
   "outputs": [],
   "source": [
    "def svd_train(df, train_u2i_score, vec_size, steps=10, alpha=0.02, lamda=0.3, decay_rate=0.95):\n",
    "    user_cnt = df.userId.unique().shape[0]\n",
    "    item_cnt = df.movieId.unique().shape[0]\n",
    "    p = np.matrix(np.random.rand(user_cnt, vec_size), dtype=np.longfloat)\n",
    "    q = np.matrix(np.random.rand(item_cnt, vec_size), dtype=np.longfloat)\n",
    "    for step in range(steps):\n",
    "        print(\"start step %d\" % (step+1))\n",
    "        for u in train_u2i_score:\n",
    "            for i in train_u2i_score[u]:\n",
    "                pui = float(np.dot(p[u,:], q[i,:].T))\n",
    "                eui = train_u2i_score[u][i] - pui\n",
    "                for k in range(vec_size):\n",
    "                    p[u,k] += alpha*(q[i,k]*eui - lamda*p[u,k])\n",
    "                    q[i,k] += alpha*(p[u,k]*eui - lamda*q[i,k])\n",
    "        alpha *= decay_rate\n",
    "    return p,q"
   ]
  },
  {
   "cell_type": "code",
   "execution_count": 16,
   "metadata": {},
   "outputs": [
    {
     "name": "stdout",
     "output_type": "stream",
     "text": [
      "start step 1\n",
      "start step 2\n",
      "start step 3\n",
      "start step 4\n",
      "start step 5\n",
      "start step 6\n",
      "start step 7\n",
      "start step 8\n",
      "start step 9\n",
      "start step 10\n"
     ]
    }
   ],
   "source": [
    "p, q = svd_train(df, train_u2i_score, 64)"
   ]
  },
  {
   "cell_type": "code",
   "execution_count": 17,
   "metadata": {
    "collapsed": true
   },
   "outputs": [],
   "source": [
    "def cal_score_svd(test_u2i_score, p, q):\n",
    "    pred = {}\n",
    "    for u in test_u2i_score:\n",
    "        if not u in pred:\n",
    "            pred[u] = {}\n",
    "        for i in test_u2i_score[u]:\n",
    "            if not i in pred[u]:\n",
    "                pred[u][i] = 0.0\n",
    "            pred[u][i] = float(np.dot(p[u,:], q[i,:].T))\n",
    "    return pred"
   ]
  },
  {
   "cell_type": "code",
   "execution_count": 18,
   "metadata": {
    "collapsed": true
   },
   "outputs": [],
   "source": [
    "#eavl\n",
    "def cf_eval(pred, test, method = \"rmse\"):\n",
    "    error = 0.0\n",
    "    cnt = 0\n",
    "    for user in pred:\n",
    "        for item in pred[user]:\n",
    "            error += (pred[user][item] - test[user][item]) * (pred[user][item] - test[user][item])\n",
    "            if (pred[user][item] - test[user][item]) == float(\"inf\"):\n",
    "                print user,item\n",
    "            cnt += 1\n",
    "    error = math.sqrt(error/cnt)\n",
    "    return error"
   ]
  },
  {
   "cell_type": "code",
   "execution_count": 19,
   "metadata": {
    "collapsed": true
   },
   "outputs": [],
   "source": [
    "pred_usercf = cal_score_usercf(sorted_similarity, train_u2i_score, test_u2i_score, i2u_score, 60, user_ave_score)"
   ]
  },
  {
   "cell_type": "code",
   "execution_count": 20,
   "metadata": {
    "collapsed": true
   },
   "outputs": [],
   "source": [
    "pred_svd = cal_score_svd(test_u2i_score, p, q)"
   ]
  },
  {
   "cell_type": "code",
   "execution_count": 21,
   "metadata": {},
   "outputs": [],
   "source": [
    "eval_usercf = cf_eval(pred_usercf, test_u2i_score)"
   ]
  },
  {
   "cell_type": "code",
   "execution_count": 22,
   "metadata": {},
   "outputs": [
    {
     "ename": "NameError",
     "evalue": "name 'svd_pred' is not defined",
     "output_type": "error",
     "traceback": [
      "\u001b[1;31m\u001b[0m",
      "\u001b[1;31mNameError\u001b[0mTraceback (most recent call last)",
      "\u001b[1;32m<ipython-input-22-49ddea1c9cf8>\u001b[0m in \u001b[0;36m<module>\u001b[1;34m()\u001b[0m\n\u001b[1;32m----> 1\u001b[1;33m \u001b[0meval_svd\u001b[0m \u001b[1;33m=\u001b[0m \u001b[0mcf_eval\u001b[0m\u001b[1;33m(\u001b[0m\u001b[0msvd_pred\u001b[0m\u001b[1;33m,\u001b[0m \u001b[0mtest_u2i_score\u001b[0m\u001b[1;33m)\u001b[0m\u001b[1;33m\u001b[0m\u001b[0m\n\u001b[0m",
      "\u001b[1;31mNameError\u001b[0m: name 'svd_pred' is not defined"
     ]
    }
   ],
   "source": [
    "eval_svd = cf_eval(svd_pred, test_u2i_score)"
   ]
  }
 ],
 "metadata": {
  "kernelspec": {
   "display_name": "Python 2",
   "language": "python",
   "name": "python2"
  },
  "language_info": {
   "codemirror_mode": {
    "name": "ipython",
    "version": 2
   },
   "file_extension": ".py",
   "mimetype": "text/x-python",
   "name": "python",
   "nbconvert_exporter": "python",
   "pygments_lexer": "ipython2",
   "version": "2.7.14"
  }
 },
 "nbformat": 4,
 "nbformat_minor": 2
}
